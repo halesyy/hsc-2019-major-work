{
 "cells": [
  {
   "cell_type": "markdown",
   "metadata": {},
   "source": [
    "### What is a Maclaurin Series?\n",
    "\n",
    "A Maclaurin series is a way of decompressing a Sine wave, into a large set of sums. It can be shown as the following, with the first few values evaluated:\n",
    "\n",
    "![maclaurin series evaluated](http://www.mathwords.com/m/m_assets/maclaurin_art_examples.gif)\n",
    "\n",
    "To simplify this for a programatic sense, **numerator = 1 on odd inputs, and numerator = 0 on even inputs** which is then simply denominated by the factorial of the input - followed by x to the power of the factorial. This means we can quickly construct an equation if we are using the first 3 inputs, for example.\n",
    "\n",
    "The point of this project is to come up with point values in a data set that we require, and train the network to move towards those peaks and reward areas to come up with a \"perfect\" curve.\n",
    "\n",
    "Goals for the network:\n",
    "\n",
    "- Able to scale to N amount of input sinal changes\n",
    "- Able to run through x-values to produce a predicted set of numbers\n",
    "\n",
    "After some evaluation, I've deemed this a very difficult project - as the amount of inputs varies quite tremendously from test to test, so this will be me trying to work on the effectiveness of 3 predicted inputs that can be completely random from 1-26."
   ]
  },
  {
   "cell_type": "code",
   "execution_count": 106,
   "metadata": {
    "scrolled": true
   },
   "outputs": [
    {
     "name": "stdout",
     "output_type": "stream",
     "text": [
      "0.9333333333333333\n"
     ]
    }
   ],
   "source": [
    "import numpy\n",
    "import random\n",
    "import math\n",
    "\n",
    "# [x-value, y-value (f) wishes for]\n",
    "data = [\n",
    "    [1, 1],\n",
    "    [2, 2],\n",
    "    [3, 3]\n",
    "]\n",
    "\n",
    "\n",
    "# def simple_series(k):\n",
    "#     total_factorial = 1\n",
    "#     for v in range(2, k):\n",
    "#         # 2*v+1 is our (2k+1) piece for simplification\n",
    "#         total_factorial *= math.factorial(2*v+1)\n",
    "#     # total_factorial is our lowest-common denominator\n",
    "#     highest_x_exp = 2*(k-1)+1\n",
    "#     return highest_x_exp\n",
    "\n",
    "# x = 1\n",
    "\n",
    "def feed_forward()\n",
    "\n",
    "\n",
    "prediction = ((x**5) - 20*(x**3) + 120*(x)) / 120\n",
    "\n",
    "\n",
    "\n",
    "print(prediction)\n",
    "    "
   ]
  },
  {
   "cell_type": "code",
   "execution_count": null,
   "metadata": {},
   "outputs": [],
   "source": []
  }
 ],
 "metadata": {
  "kernelspec": {
   "display_name": "Python 3",
   "language": "python",
   "name": "python3"
  },
  "language_info": {
   "codemirror_mode": {
    "name": "ipython",
    "version": 3
   },
   "file_extension": ".py",
   "mimetype": "text/x-python",
   "name": "python",
   "nbconvert_exporter": "python",
   "pygments_lexer": "ipython3",
   "version": "3.6.0"
  }
 },
 "nbformat": 4,
 "nbformat_minor": 2
}
