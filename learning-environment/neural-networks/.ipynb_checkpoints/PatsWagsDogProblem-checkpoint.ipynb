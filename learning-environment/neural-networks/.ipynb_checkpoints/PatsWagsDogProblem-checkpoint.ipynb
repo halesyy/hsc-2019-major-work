{
 "cells": [
  {
   "cell_type": "code",
   "execution_count": 8,
   "metadata": {},
   "outputs": [],
   "source": [
    "%matplotlib inline"
   ]
  },
  {
   "cell_type": "code",
   "execution_count": 7,
   "metadata": {},
   "outputs": [],
   "source": [
    "import matplotlib.pyplot as plt\n",
    "import numpy"
   ]
  },
  {
   "cell_type": "markdown",
   "metadata": {},
   "source": [
    "## Data defined\n",
    "\n",
    "Where index is as follows: amount of pats to the amount of wags gotten.\n",
    "\n",
    "[pats, wags]"
   ]
  },
  {
   "cell_type": "code",
   "execution_count": 71,
   "metadata": {},
   "outputs": [
    {
     "data": {
      "image/png": "[encoded data removed]",
      "text/plain": [
       "<Figure size 432x288 with 1 Axes>"
      ]
     },
     "metadata": {
      "needs_background": "light"
     },
     "output_type": "display_data"
    }
   ],
   "source": [
    "patsd = [1, 2, 4]\n",
    "wagsd = [2, 4, 5]\n",
    "\n",
    "# Plotting jargon\n",
    "plt.scatter(patsd, wagsd, s=100)\n",
    "plt.show()"
   ]
  },
  {
   "cell_type": "code",
   "execution_count": 78,
   "metadata": {},
   "outputs": [],
   "source": [
    "def random_weights():\n",
    "    return [numpy.random.randn(), numpy.random.randn()]\n",
    "\n",
    "weight, bias = random_weights()"
   ]
  },
  {
   "cell_type": "code",
   "execution_count": 87,
   "metadata": {},
   "outputs": [
    {
     "name": "stdout",
     "output_type": "stream",
     "text": [
      "pats: [1, 2, 4]\n",
      "wags: [2, 4, 5]\n",
      "wag guess: [2.0, 2.83, 4.49]\n"
     ]
    }
   ],
   "source": [
    "# MODEL\n",
    "def NN(pats, w, b):\n",
    "    return pats * w + b\n",
    "\n",
    "# computing all of the sets of data together\n",
    "def NNAll(weight, bias):\n",
    "    guesses = []\n",
    "    for pats, wags in zip(patsd, wagsd):\n",
    "        guesses.append(\n",
    "            round(NN(\n",
    "            pats, weight, bias\n",
    "            ), 22)\n",
    "        )\n",
    "    return guesses\n",
    "    \n",
    "\n",
    "guesses = (NNAll(0.83, 1.17))\n",
    "    \n",
    "print(\"pats: \"+str(patsd))\n",
    "print(\"wags: \"+str(wagsd))\n",
    "print(\"wag guess: \"+str(guesses))"
   ]
  },
  {
   "cell_type": "code",
   "execution_count": 90,
   "metadata": {},
   "outputs": [
    {
     "name": "stdout",
     "output_type": "stream",
     "text": [
      "errors: [0.0, 1.37, 0.26]\n"
     ]
    }
   ],
   "source": [
    "# turns into parabola so that larger numbers\n",
    "# are more exponential\n",
    "def cost(prediction, target):\n",
    "    return round((prediction - target)**2, 2)\n",
    "\n",
    "# slope gives us the direction we have to\n",
    "# move to get closer to an equal cost\n",
    "def slope(prediction, target):\n",
    "    return round(2 * (prediction - target), 2)\n",
    "\n",
    "# the error rate of improvement required\n",
    "errors = []\n",
    "total_errors = 0\n",
    "for guess, wags in zip(guesses, wagsd):\n",
    "    errors.append(cost(guess, wags))\n",
    "    total_errors += cost(guess,wags)\n",
    "\n",
    "# cost, slope = cost(prediction, target), slope(prediction, target)\n",
    "\n",
    "# print(\"{0} - {1}\".format(cost, slope))\n",
    "print(\"errors: \" + str(errors))"
   ]
  },
  {
   "cell_type": "code",
   "execution_count": null,
   "metadata": {},
   "outputs": [],
   "source": []
  }
 ],
 "metadata": {
  "kernelspec": {
   "display_name": "Python 3",
   "language": "python",
   "name": "python3"
  },
  "language_info": {
   "codemirror_mode": {
    "name": "ipython",
    "version": 3
   },
   "file_extension": ".py",
   "mimetype": "text/x-python",
   "name": "python",
   "nbconvert_exporter": "python",
   "pygments_lexer": "ipython3",
   "version": "3.6.0"
  }
 },
 "nbformat": 4,
 "nbformat_minor": 2
}
