{
 "cells": [
  {
   "cell_type": "markdown",
   "metadata": {},
   "source": [
    "### What is a Maclaurin Series?\n",
    "\n",
    "A Maclaurin series is a way of decompressing a Sine wave, into a large set of sums. It can be shown as the following, with the first few values evaluated:\n",
    "\n",
    "![maclaurin series evaluated](http://www.mathwords.com/m/m_assets/maclaurin_art_examples.gif)\n",
    "\n",
    "To simplify this for a programatic sense, **numerator = 1 on odd inputs, and numerator = 0 on even inputs** which is then simply denominated by the factorial of the input - followed by x to the power of the factorial. This means we can quickly construct an equation if we are using the first 3 inputs, for example.\n",
    "\n",
    "The point of this project is to come up with point values in a data set that we require, and train the network to move towards those peaks and reward areas to come up with a \"perfect\" curve.\n",
    "\n",
    "Goals for the network:\n",
    "\n",
    "- Able to scale to N amount of input sinal changes\n",
    "- Able to run through x-values to produce a predicted set of numbers\n",
    "\n",
    "After some evaluation, I've deemed this a very difficult project - as the amount of inputs varies quite tremendously from test to test, so this will be me trying to work on the effectiveness of 3 predicted inputs that can be completely random from 1-26."
   ]
  },
  {
   "cell_type": "code",
   "execution_count": 4,
   "metadata": {
    "scrolled": true
   },
   "outputs": [
    {
     "name": "stdout",
     "output_type": "stream",
     "text": [
      "-1.2524257656491893\n"
     ]
    }
   ],
   "source": [
    "import numpy\n",
    "import random\n",
    "import math\n",
    "\n",
    "# [x-value, y-value (f) wishes for]\n",
    "data = [\n",
    "    [1, 1],\n",
    "    [2, 2],\n",
    "    [3, 3]\n",
    "]\n",
    "x = 1\n",
    "\n",
    "\n",
    "# def simple_series(k):\n",
    "#     total_factorial = 1\n",
    "#     for v in range(2, k):\n",
    "#         # 2*v+1 is our (2k+1) piece for simplification\n",
    "#         total_factorial *= math.factorial(2*v+1)\n",
    "#     # total_factorial is our lowest-common denominator\n",
    "#     highest_x_exp = 2*(k-1)+1\n",
    "#     return highest_x_exp\n",
    "\n",
    "# x = 1\n",
    "\n",
    "def feed_forward(x, w1, w2, w3, b, c):\n",
    "    return (\n",
    "        (w1*(x**5)) - (w2*20*(x**3)) + (120 * x * w3) + b\n",
    "    ) / (120 + c)\n",
    "        \n",
    "    \n",
    "    \n",
    "    \n",
    "    \n",
    "\n",
    "\n",
    "prediction = feed_forward(x, numpy.random.randn(), numpy.random.randn(), numpy.random.randn(), numpy.random.randn(), numpy.random.randn())\n",
    "\n",
    "\n",
    "\n",
    "print(prediction)\n",
    "    "
   ]
  },
  {
   "cell_type": "markdown",
   "metadata": {},
   "source": [
    "# Writing some functions that help give us access to larger functions"
   ]
  },
  {
   "cell_type": "code",
   "execution_count": 103,
   "metadata": {},
   "outputs": [
    {
     "name": "stdout",
     "output_type": "stream",
     "text": [
      "((3!5!7!)x^1 - (1!5!7!)x^3 + (1!3!7!)x^5 - (1!3!5!)x^7 ) / \n",
      "1!3!5!7!\n"
     ]
    }
   ],
   "source": [
    "# N defines the set of turns that the equation has inside of it\n",
    "\n",
    "def nComputeFactorial(n):\n",
    "    denstore = 1\n",
    "    for i in range(1, n*2, 2):\n",
    "        denstore *= math.factorial(i)\n",
    "    return denstore\n",
    "\n",
    "# returning simple values\n",
    "def nFactorialSeries(n):\n",
    "    series = []\n",
    "    for i in range(1, n*2, 2):\n",
    "        series.append(i)\n",
    "    return series\n",
    "\n",
    "def prodAsFactorials(nSeries):\n",
    "    denstore = 1\n",
    "    for nunfac in nSeries:\n",
    "        nfac = math.factorial(nunfac)\n",
    "        denstore *= nfac\n",
    "    return denstore\n",
    "\n",
    "#f=FactorialSeries, r=RemoveNumber\n",
    "def OddOneOut(n, r):\n",
    "    n.remove(r)\n",
    "    return n\n",
    "\n",
    "def ProductOfNFSeries(nSeries):\n",
    "    factstr = \"\"\n",
    "    for nfactorial in nSeries:\n",
    "            factstr += str(nfactorial)+\"!\"\n",
    "    return factstr\n",
    "            \n",
    "#rate=CurrentIteratedLinearValue\n",
    "def constantFromRate(n, rate, form=\"wholenumber\"):\n",
    "    # making new series from n-values with removed rate\n",
    "    nSeries = nFactorialSeries(n)\n",
    "    # removing the rate value since that's what we're factoring\n",
    "    nSeries.remove(rate)\n",
    "    if form==\"wholenumber\":\n",
    "        # computing the factorial of all together\n",
    "        constant = prodAsFactorials(nSeries)\n",
    "        return constant\n",
    "    elif form==\"factorial\":\n",
    "        factstr = \"\"\n",
    "        for nfactorial in nSeries:\n",
    "            factstr += str(nfactorial)+\"!\"\n",
    "        return factstr\n",
    "        \n",
    "        \n",
    "    \n",
    "\n",
    "def SeriesPrint(nSeries, n, denominator):\n",
    "    numerator = \"\"\n",
    "    iter = 1\n",
    "    \n",
    "    print(\"(\", end=\"\")\n",
    "    \n",
    "    for rate in nSeries:\n",
    "        # prints the iterable x-value\n",
    "        if iter != 1:\n",
    "            print(\"- \" if iter%2==0 else \"+ \", end=\"\")\n",
    "        \n",
    "        print(\"({1})x^{0} \".format(\n",
    "            rate,\n",
    "            constantFromRate(n, rate, \"factorial\")\n",
    "        ), end=\"\")\n",
    "        \n",
    "        iter += 1\n",
    "    \n",
    "    print(\") / \")\n",
    "#     print(denominator)\n",
    "    print(ProductOfNFSeries(nSeries))\n",
    "        \n",
    "    \n",
    "    \n",
    "\n",
    "n = 4\n",
    "\n",
    "Denominator = nComputeFactorial(n)\n",
    "nSeries     = nFactorialSeries(n)\n",
    "# print(Series, Denominator)\n",
    "\n",
    "SeriesPrint(nSeries, n, Denominator)\n"
   ]
  },
  {
   "cell_type": "markdown",
   "metadata": {},
   "source": [
    "# Creating a new function set, since I've changed some ideas around\n",
    "\n",
    "Instead of creating a simplified equation (which is simple enough) im going to map them into themselves, and create individuals since the differential is formed from the Cosine maclaurin series. sin dx = cos"
   ]
  },
  {
   "cell_type": "code",
   "execution_count": 153,
   "metadata": {},
   "outputs": [
    {
     "name": "stdout",
     "output_type": "stream",
     "text": [
      "X-Values: \n",
      "\n",
      "+x^1/1! -x^3/3! \n",
      "\n",
      "Differentiated Values:\n",
      "\n",
      "1 -x^2/2! "
     ]
    }
   ],
   "source": [
    "def SineSeriesIterators(n):\n",
    "    series = []\n",
    "    for i in range(1, n*2, 2):\n",
    "        series.append(i)\n",
    "    return series\n",
    "\n",
    "def CosSeriesIterators(n):\n",
    "    series = []\n",
    "    for i in range(0, n*2, 2):\n",
    "        series.append(i)\n",
    "    return series\n",
    "\n",
    "def Sine(n):\n",
    "    sn = str(n)\n",
    "    si = str(SineIter[n-1])\n",
    "    return (\n",
    "        \"{0}x^{1}/{2}\".format(\n",
    "            \"-\" if n%2==0 else \"+\", si, si+\"!\"\n",
    "        )\n",
    "    )\n",
    "\n",
    "def Cosine(n):\n",
    "    if n == 1:\n",
    "        return 1\n",
    "    sn = str(n)\n",
    "    si = str(CosIter[n-1])\n",
    "    return (\n",
    "        \"{0}x^{1}/{2}\".format(\n",
    "            \"-\" if n%2==0 else \"+\", si, si+\"!\"\n",
    "        )\n",
    "    )\n",
    "\n",
    "n = 2\n",
    "SineIter   = SineSeriesIterators(n)\n",
    "CosIter = CosSeriesIterators(n)\n",
    "\n",
    "print(\"X-Values: \\n\")\n",
    "\n",
    "for i in range(1, n+1):\n",
    "    print(\"{0} \".format(Sine(i)), end=\"\")\n",
    "    \n",
    "print(\"\\n\\nDifferentiated Values:\\n\")\n",
    "    \n",
    "for i in range(1, n+1):\n",
    "    print(\"{0} \".format(Cosine(i)), end=\"\")"
   ]
  },
  {
   "cell_type": "code",
   "execution_count": null,
   "metadata": {},
   "outputs": [],
   "source": []
  },
  {
   "cell_type": "code",
   "execution_count": null,
   "metadata": {},
   "outputs": [],
   "source": []
  }
 ],
 "metadata": {
  "kernelspec": {
   "display_name": "Python 3",
   "language": "python",
   "name": "python3"
  },
  "language_info": {
   "codemirror_mode": {
    "name": "ipython",
    "version": 3
   },
   "file_extension": ".py",
   "mimetype": "text/x-python",
   "name": "python",
   "nbconvert_exporter": "python",
   "pygments_lexer": "ipython3",
   "version": "3.6.0"
  }
 },
 "nbformat": 4,
 "nbformat_minor": 2
}
